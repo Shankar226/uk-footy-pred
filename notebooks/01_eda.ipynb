{
 "cells": [
  {
   "cell_type": "markdown",
   "id": "53c0ef86-08ae-4e5d-942d-5be411bff484",
   "metadata": {},
   "source": [
    "# EDA — UK Football Match Outcome Prediction\n",
    "\n",
    "Exploratory Data Analysis using Football-Data.co.uk CSVs.  \n",
    "- Class balance (H/D/A)  \n",
    "- Season coverage  \n",
    "- Goal difference distribution  \n",
    "- Odds availability  \n",
    "- Missingness (shots columns)  \n",
    "- Leakage policy check  \n",
    "All figures will be saved in `outputs/figures/`.\n"
   ]
  },
  {
   "cell_type": "markdown",
   "id": "b7173d70-4149-4ed1-9c2c-c6e6aab6fd23",
   "metadata": {},
   "source": [
    "### Imports & Setup"
   ]
  },
  {
   "cell_type": "code",
   "execution_count": 3,
   "id": "d9f1177b-5293-4537-8661-f694f0b478d2",
   "metadata": {},
   "outputs": [
    {
     "name": "stdout",
     "output_type": "stream",
     "text": [
      "Project root: C:\\Users\\BALA\\OneDrive - University of Hertfordshire\\Desktop\\Shankar project\\uk-footy-pred\n"
     ]
    }
   ],
   "source": [
    "import os, sys\n",
    "from pathlib import Path\n",
    "import numpy as np\n",
    "import pandas as pd\n",
    "import matplotlib.pyplot as plt\n",
    "import seaborn as sns\n",
    "\n",
    "# Locating project root robustly \n",
    "CWD = Path.cwd().resolve()\n",
    "ROOT = CWD\n",
    "while ROOT.name != \"uk-footy-pred\" and ROOT.parent != ROOT:\n",
    "    ROOT = ROOT.parent\n",
    "\n",
    "if ROOT.name != \"uk-footy-pred\":\n",
    "    raise RuntimeError(f\"Could not find project root named 'uk-footy-pred' from {CWD}\")\n",
    "\n",
    "# Putting project root on sys.path so `import src...` works\n",
    "if str(ROOT) not in sys.path:\n",
    "    sys.path.insert(0, str(ROOT))\n",
    "\n",
    "print(\"Project root:\", ROOT)\n",
    "\n",
    "# --- Now importing the loader ---\n",
    "from src.data.load_fd import load_football_data\n",
    "\n",
    "sns.set_context(\"talk\")\n",
    "plt.rcParams[\"figure.dpi\"] = 120\n",
    "\n",
    "OUTDIR = ROOT / \"outputs\" / \"figures\"\n",
    "OUTDIR.mkdir(parents=True, exist_ok=True)\n"
   ]
  },
  {
   "cell_type": "markdown",
   "id": "e4b7d58a-42ea-403f-9416-c4ab072b0d67",
   "metadata": {},
   "source": [
    "### Load Data"
   ]
  },
  {
   "cell_type": "code",
   "execution_count": 35,
   "id": "e8748b26-f322-4a9a-be40-c811731b26ec",
   "metadata": {},
   "outputs": [
    {
     "name": "stdout",
     "output_type": "stream",
     "text": [
      "Shape: (514, 26)\n"
     ]
    },
    {
     "data": {
      "text/html": [
       "<div>\n",
       "<style scoped>\n",
       "    .dataframe tbody tr th:only-of-type {\n",
       "        vertical-align: middle;\n",
       "    }\n",
       "\n",
       "    .dataframe tbody tr th {\n",
       "        vertical-align: top;\n",
       "    }\n",
       "\n",
       "    .dataframe thead th {\n",
       "        text-align: right;\n",
       "    }\n",
       "</style>\n",
       "<table border=\"1\" class=\"dataframe\">\n",
       "  <thead>\n",
       "    <tr style=\"text-align: right;\">\n",
       "      <th></th>\n",
       "      <th>Date</th>\n",
       "      <th>HomeTeam</th>\n",
       "      <th>AwayTeam</th>\n",
       "      <th>FTHG</th>\n",
       "      <th>FTAG</th>\n",
       "      <th>FTR</th>\n",
       "      <th>HS</th>\n",
       "      <th>AS</th>\n",
       "      <th>HST</th>\n",
       "      <th>AST</th>\n",
       "      <th>...</th>\n",
       "      <th>HR</th>\n",
       "      <th>AR</th>\n",
       "      <th>B365H</th>\n",
       "      <th>B365D</th>\n",
       "      <th>B365A</th>\n",
       "      <th>PSH</th>\n",
       "      <th>PSD</th>\n",
       "      <th>PSA</th>\n",
       "      <th>result</th>\n",
       "      <th>season</th>\n",
       "    </tr>\n",
       "  </thead>\n",
       "  <tbody>\n",
       "    <tr>\n",
       "      <th>0</th>\n",
       "      <td>2025-08-15</td>\n",
       "      <td>Liverpool</td>\n",
       "      <td>Bournemouth</td>\n",
       "      <td>4</td>\n",
       "      <td>2</td>\n",
       "      <td>H</td>\n",
       "      <td>19.0</td>\n",
       "      <td>10.0</td>\n",
       "      <td>10.0</td>\n",
       "      <td>3.0</td>\n",
       "      <td>...</td>\n",
       "      <td>0</td>\n",
       "      <td>0</td>\n",
       "      <td>1.30</td>\n",
       "      <td>6.00</td>\n",
       "      <td>8.50</td>\n",
       "      <td>1.28</td>\n",
       "      <td>6.56</td>\n",
       "      <td>9.07</td>\n",
       "      <td>H</td>\n",
       "      <td>2026</td>\n",
       "    </tr>\n",
       "    <tr>\n",
       "      <th>1</th>\n",
       "      <td>2025-08-16</td>\n",
       "      <td>Aston Villa</td>\n",
       "      <td>Newcastle</td>\n",
       "      <td>0</td>\n",
       "      <td>0</td>\n",
       "      <td>D</td>\n",
       "      <td>3.0</td>\n",
       "      <td>16.0</td>\n",
       "      <td>3.0</td>\n",
       "      <td>3.0</td>\n",
       "      <td>...</td>\n",
       "      <td>1</td>\n",
       "      <td>0</td>\n",
       "      <td>2.25</td>\n",
       "      <td>3.50</td>\n",
       "      <td>2.90</td>\n",
       "      <td>2.24</td>\n",
       "      <td>3.72</td>\n",
       "      <td>3.13</td>\n",
       "      <td>D</td>\n",
       "      <td>2026</td>\n",
       "    </tr>\n",
       "    <tr>\n",
       "      <th>2</th>\n",
       "      <td>2025-08-16</td>\n",
       "      <td>Brighton</td>\n",
       "      <td>Fulham</td>\n",
       "      <td>1</td>\n",
       "      <td>1</td>\n",
       "      <td>D</td>\n",
       "      <td>10.0</td>\n",
       "      <td>7.0</td>\n",
       "      <td>4.0</td>\n",
       "      <td>2.0</td>\n",
       "      <td>...</td>\n",
       "      <td>0</td>\n",
       "      <td>0</td>\n",
       "      <td>1.91</td>\n",
       "      <td>3.60</td>\n",
       "      <td>4.00</td>\n",
       "      <td>1.94</td>\n",
       "      <td>3.73</td>\n",
       "      <td>3.98</td>\n",
       "      <td>D</td>\n",
       "      <td>2026</td>\n",
       "    </tr>\n",
       "    <tr>\n",
       "      <th>3</th>\n",
       "      <td>2025-08-16</td>\n",
       "      <td>Sunderland</td>\n",
       "      <td>West Ham</td>\n",
       "      <td>3</td>\n",
       "      <td>0</td>\n",
       "      <td>H</td>\n",
       "      <td>10.0</td>\n",
       "      <td>12.0</td>\n",
       "      <td>5.0</td>\n",
       "      <td>4.0</td>\n",
       "      <td>...</td>\n",
       "      <td>0</td>\n",
       "      <td>0</td>\n",
       "      <td>3.25</td>\n",
       "      <td>3.40</td>\n",
       "      <td>2.25</td>\n",
       "      <td>3.27</td>\n",
       "      <td>3.43</td>\n",
       "      <td>2.29</td>\n",
       "      <td>H</td>\n",
       "      <td>2026</td>\n",
       "    </tr>\n",
       "    <tr>\n",
       "      <th>4</th>\n",
       "      <td>2025-08-16</td>\n",
       "      <td>Tottenham</td>\n",
       "      <td>Burnley</td>\n",
       "      <td>3</td>\n",
       "      <td>0</td>\n",
       "      <td>H</td>\n",
       "      <td>16.0</td>\n",
       "      <td>14.0</td>\n",
       "      <td>6.0</td>\n",
       "      <td>4.0</td>\n",
       "      <td>...</td>\n",
       "      <td>0</td>\n",
       "      <td>0</td>\n",
       "      <td>1.38</td>\n",
       "      <td>4.75</td>\n",
       "      <td>8.50</td>\n",
       "      <td>1.40</td>\n",
       "      <td>4.71</td>\n",
       "      <td>8.79</td>\n",
       "      <td>H</td>\n",
       "      <td>2026</td>\n",
       "    </tr>\n",
       "  </tbody>\n",
       "</table>\n",
       "<p>5 rows × 26 columns</p>\n",
       "</div>"
      ],
      "text/plain": [
       "        Date     HomeTeam     AwayTeam  FTHG  FTAG FTR    HS    AS   HST  AST  \\\n",
       "0 2025-08-15    Liverpool  Bournemouth     4     2   H  19.0  10.0  10.0  3.0   \n",
       "1 2025-08-16  Aston Villa    Newcastle     0     0   D   3.0  16.0   3.0  3.0   \n",
       "2 2025-08-16     Brighton       Fulham     1     1   D  10.0   7.0   4.0  2.0   \n",
       "3 2025-08-16   Sunderland     West Ham     3     0   H  10.0  12.0   5.0  4.0   \n",
       "4 2025-08-16    Tottenham      Burnley     3     0   H  16.0  14.0   6.0  4.0   \n",
       "\n",
       "   ...  HR  AR  B365H  B365D  B365A   PSH   PSD   PSA  result  season  \n",
       "0  ...   0   0   1.30   6.00   8.50  1.28  6.56  9.07       H    2026  \n",
       "1  ...   1   0   2.25   3.50   2.90  2.24  3.72  3.13       D    2026  \n",
       "2  ...   0   0   1.91   3.60   4.00  1.94  3.73  3.98       D    2026  \n",
       "3  ...   0   0   3.25   3.40   2.25  3.27  3.43  2.29       H    2026  \n",
       "4  ...   0   0   1.38   4.75   8.50  1.40  4.71  8.79       H    2026  \n",
       "\n",
       "[5 rows x 26 columns]"
      ]
     },
     "execution_count": 35,
     "metadata": {},
     "output_type": "execute_result"
    }
   ],
   "source": [
    "df = load_football_data(raw_dir=str(ROOT / \"data\" / \"raw\")).copy()\n",
    "\n",
    "# Tag seasons: Aug..May as one season\n",
    "df[\"season\"] = (df[\"Date\"].dt.year + (df[\"Date\"].dt.month >= 8)).astype(int)\n",
    "\n",
    "print(\"Shape:\", df.shape)\n",
    "df.head(5)\n"
   ]
  },
  {
   "cell_type": "markdown",
   "id": "b691d329-662c-441c-9239-a4083d5db352",
   "metadata": {},
   "source": [
    "### Check Missingness & Duplicates"
   ]
  },
  {
   "cell_type": "code",
   "execution_count": 6,
   "id": "fb80569a-5ab1-48c9-80a4-6c314c418918",
   "metadata": {},
   "outputs": [
    {
     "name": "stdout",
     "output_type": "stream",
     "text": [
      "AF     0.266537\n",
      "HS     0.266537\n",
      "AS     0.266537\n",
      "HST    0.266537\n",
      "AST    0.266537\n",
      "HC     0.266537\n",
      "AC     0.266537\n",
      "HF     0.266537\n",
      "PSA    0.023346\n",
      "PSD    0.023346\n",
      "dtype: float64\n",
      "Potential duplicate fixtures: 0\n"
     ]
    }
   ],
   "source": [
    "print(df.isna().mean().sort_values(ascending=False).head(10))\n",
    "\n",
    "dupes = df.duplicated(subset=[\"Date\",\"HomeTeam\",\"AwayTeam\"]).sum()\n",
    "print(f\"Potential duplicate fixtures: {dupes}\")\n"
   ]
  },
  {
   "cell_type": "markdown",
   "id": "e529ba14-3d2f-4966-b43b-2586996f0fd6",
   "metadata": {},
   "source": [
    "### Class Balance"
   ]
  },
  {
   "cell_type": "code",
   "execution_count": 7,
   "id": "e7d56330-fa9f-469f-b2c9-3cf3c62a823f",
   "metadata": {},
   "outputs": [
    {
     "data": {
      "text/plain": [
       "FTR\n",
       "H    0.441634\n",
       "A    0.317121\n",
       "D    0.241245\n",
       "Name: proportion, dtype: float64"
      ]
     },
     "execution_count": 7,
     "metadata": {},
     "output_type": "execute_result"
    },
    {
     "data": {
      "image/png": "[encoded data removed]",
      "text/plain": [
       "<Figure size 720x480 with 1 Axes>"
      ]
     },
     "metadata": {},
     "output_type": "display_data"
    }
   ],
   "source": [
    "fig, ax = plt.subplots(figsize=(6,4))\n",
    "sns.countplot(x=\"FTR\", data=df, ax=ax)\n",
    "ax.set_title(\"Result distribution (H/D/A)\")\n",
    "fig.tight_layout()\n",
    "fig.savefig(OUTDIR / \"class_distribution.png\")\n",
    "\n",
    "df[\"FTR\"].value_counts(normalize=True)\n"
   ]
  },
  {
   "cell_type": "markdown",
   "id": "38e6637a-a8b9-4d68-a47f-12ec01cd1255",
   "metadata": {},
   "source": [
    "### Season Coverage"
   ]
  },
  {
   "cell_type": "code",
   "execution_count": 26,
   "id": "1809d2d9-3773-47e6-811c-6dba83bec58f",
   "metadata": {},
   "outputs": [
    {
     "data": {
      "text/html": [
       "<div>\n",
       "<style scoped>\n",
       "    .dataframe tbody tr th:only-of-type {\n",
       "        vertical-align: middle;\n",
       "    }\n",
       "\n",
       "    .dataframe tbody tr th {\n",
       "        vertical-align: top;\n",
       "    }\n",
       "\n",
       "    .dataframe thead th {\n",
       "        text-align: right;\n",
       "    }\n",
       "</style>\n",
       "<table border=\"1\" class=\"dataframe\">\n",
       "  <thead>\n",
       "    <tr style=\"text-align: right;\">\n",
       "      <th></th>\n",
       "      <th>season</th>\n",
       "      <th>matches</th>\n",
       "    </tr>\n",
       "  </thead>\n",
       "  <tbody>\n",
       "    <tr>\n",
       "      <th>0</th>\n",
       "      <td>2026</td>\n",
       "      <td>514</td>\n",
       "    </tr>\n",
       "  </tbody>\n",
       "</table>\n",
       "</div>"
      ],
      "text/plain": [
       "   season  matches\n",
       "0    2026      514"
      ]
     },
     "execution_count": 26,
     "metadata": {},
     "output_type": "execute_result"
    },
    {
     "data": {
      "image/png": "[encoded data removed]",
      "text/plain": [
       "<Figure size 960x480 with 1 Axes>"
      ]
     },
     "metadata": {},
     "output_type": "display_data"
    }
   ],
   "source": [
    "group_keys = [\"season\"]\n",
    "title = \"Matches per season\"\n",
    "\n",
    "if \"Div\" in df.columns:\n",
    "    group_keys = [\"Div\", \"season\"]\n",
    "    title = \"Matches per season by division\"\n",
    "\n",
    "season_counts = (\n",
    "    df.groupby(group_keys)\n",
    "      .size()\n",
    "      .rename(\"matches\")\n",
    "      .reset_index()\n",
    ")\n",
    "\n",
    "fig, ax = plt.subplots(figsize=(8, 4))\n",
    "\n",
    "if \"Div\" in df.columns:\n",
    "    # plot each division separately\n",
    "    for div, g in season_counts.groupby(\"Div\"):\n",
    "        ax.plot(g[\"season\"], g[\"matches\"], marker=\"o\", label=div)\n",
    "    ax.legend(title=\"Division\")\n",
    "else:\n",
    "    # plot just by season\n",
    "    ax.plot(season_counts[\"season\"], season_counts[\"matches\"], marker=\"o\")\n",
    "\n",
    "ax.set_title(title)\n",
    "ax.set_xlabel(\"Season\")\n",
    "ax.set_ylabel(\"# Matches\")\n",
    "fig.tight_layout()\n",
    "fig.savefig(OUTDIR / \"season_coverage.png\")\n",
    "\n",
    "season_counts.tail(10)\n"
   ]
  },
  {
   "cell_type": "markdown",
   "id": "679691c8-4660-4b3e-9851-5bffff8eb7d9",
   "metadata": {},
   "source": [
    "### Goal Difference Distribution"
   ]
  },
  {
   "cell_type": "code",
   "execution_count": 27,
   "id": "cbc3b158-9d0e-4fe4-bd26-216f9a9e5955",
   "metadata": {},
   "outputs": [
    {
     "data": {
      "text/html": [
       "<div>\n",
       "<style scoped>\n",
       "    .dataframe tbody tr th:only-of-type {\n",
       "        vertical-align: middle;\n",
       "    }\n",
       "\n",
       "    .dataframe tbody tr th {\n",
       "        vertical-align: top;\n",
       "    }\n",
       "\n",
       "    .dataframe thead th {\n",
       "        text-align: right;\n",
       "    }\n",
       "</style>\n",
       "<table border=\"1\" class=\"dataframe\">\n",
       "  <thead>\n",
       "    <tr style=\"text-align: right;\">\n",
       "      <th></th>\n",
       "      <th>FTHG</th>\n",
       "      <th>FTAG</th>\n",
       "      <th>goal_diff</th>\n",
       "    </tr>\n",
       "  </thead>\n",
       "  <tbody>\n",
       "    <tr>\n",
       "      <th>count</th>\n",
       "      <td>514.000000</td>\n",
       "      <td>514.000000</td>\n",
       "      <td>514.000000</td>\n",
       "    </tr>\n",
       "    <tr>\n",
       "      <th>mean</th>\n",
       "      <td>1.457198</td>\n",
       "      <td>1.161479</td>\n",
       "      <td>0.295720</td>\n",
       "    </tr>\n",
       "    <tr>\n",
       "      <th>std</th>\n",
       "      <td>1.215204</td>\n",
       "      <td>1.046294</td>\n",
       "      <td>1.660838</td>\n",
       "    </tr>\n",
       "    <tr>\n",
       "      <th>min</th>\n",
       "      <td>0.000000</td>\n",
       "      <td>0.000000</td>\n",
       "      <td>-4.000000</td>\n",
       "    </tr>\n",
       "    <tr>\n",
       "      <th>25%</th>\n",
       "      <td>1.000000</td>\n",
       "      <td>0.000000</td>\n",
       "      <td>-1.000000</td>\n",
       "    </tr>\n",
       "    <tr>\n",
       "      <th>50%</th>\n",
       "      <td>1.000000</td>\n",
       "      <td>1.000000</td>\n",
       "      <td>0.000000</td>\n",
       "    </tr>\n",
       "    <tr>\n",
       "      <th>75%</th>\n",
       "      <td>2.000000</td>\n",
       "      <td>2.000000</td>\n",
       "      <td>1.000000</td>\n",
       "    </tr>\n",
       "    <tr>\n",
       "      <th>max</th>\n",
       "      <td>7.000000</td>\n",
       "      <td>5.000000</td>\n",
       "      <td>6.000000</td>\n",
       "    </tr>\n",
       "  </tbody>\n",
       "</table>\n",
       "</div>"
      ],
      "text/plain": [
       "             FTHG        FTAG   goal_diff\n",
       "count  514.000000  514.000000  514.000000\n",
       "mean     1.457198    1.161479    0.295720\n",
       "std      1.215204    1.046294    1.660838\n",
       "min      0.000000    0.000000   -4.000000\n",
       "25%      1.000000    0.000000   -1.000000\n",
       "50%      1.000000    1.000000    0.000000\n",
       "75%      2.000000    2.000000    1.000000\n",
       "max      7.000000    5.000000    6.000000"
      ]
     },
     "execution_count": 27,
     "metadata": {},
     "output_type": "execute_result"
    },
    {
     "data": {
      "image/png": "[encoded data removed]",
      "text/plain": [
       "<Figure size 720x480 with 1 Axes>"
      ]
     },
     "metadata": {},
     "output_type": "display_data"
    }
   ],
   "source": [
    "df[\"goal_diff\"] = df[\"FTHG\"] - df[\"FTAG\"]\n",
    "\n",
    "fig, ax = plt.subplots(figsize=(6,4))\n",
    "sns.histplot(df[\"goal_diff\"], bins=31, ax=ax)\n",
    "ax.set_title(\"Goal difference (Home - Away)\")\n",
    "fig.tight_layout()\n",
    "fig.savefig(OUTDIR / \"goal_diff_hist.png\")\n",
    "\n",
    "df[[\"FTHG\",\"FTAG\",\"goal_diff\"]].describe()\n"
   ]
  },
  {
   "cell_type": "markdown",
   "id": "afc7f9e4-59d5-419f-8193-7c3c9bab285e",
   "metadata": {},
   "source": [
    "### Odds Availability"
   ]
  },
  {
   "cell_type": "code",
   "execution_count": 28,
   "id": "b4ca1ba4-83fa-4550-9074-e7ac590a1b9b",
   "metadata": {},
   "outputs": [
    {
     "name": "stdout",
     "output_type": "stream",
     "text": [
      "Odds columns: ['PSH', 'PSD', 'PSA', 'B365H', 'B365D', 'B365A']\n"
     ]
    },
    {
     "data": {
      "text/plain": [
       "PSH      0.023346\n",
       "PSD      0.023346\n",
       "PSA      0.023346\n",
       "B365H    0.023346\n",
       "B365D    0.023346\n",
       "B365A    0.023346\n",
       "dtype: float64"
      ]
     },
     "execution_count": 28,
     "metadata": {},
     "output_type": "execute_result"
    }
   ],
   "source": [
    "odds_cols = [c for c in [\"PSH\",\"PSD\",\"PSA\",\"B365H\",\"B365D\",\"B365A\"] if c in df.columns]\n",
    "print(\"Odds columns:\", odds_cols)\n",
    "\n",
    "df[odds_cols].isna().mean().sort_values()\n"
   ]
  },
  {
   "cell_type": "markdown",
   "id": "dd61ed4f-b2af-41f5-97b9-a22c038745ec",
   "metadata": {},
   "source": [
    "### Implied Probabilities"
   ]
  },
  {
   "cell_type": "code",
   "execution_count": 29,
   "id": "559fd15b-a919-4f93-9107-54e88862793a",
   "metadata": {},
   "outputs": [
    {
     "data": {
      "text/html": [
       "<div>\n",
       "<style scoped>\n",
       "    .dataframe tbody tr th:only-of-type {\n",
       "        vertical-align: middle;\n",
       "    }\n",
       "\n",
       "    .dataframe tbody tr th {\n",
       "        vertical-align: top;\n",
       "    }\n",
       "\n",
       "    .dataframe thead th {\n",
       "        text-align: right;\n",
       "    }\n",
       "</style>\n",
       "<table border=\"1\" class=\"dataframe\">\n",
       "  <thead>\n",
       "    <tr style=\"text-align: right;\">\n",
       "      <th></th>\n",
       "      <th>pH</th>\n",
       "      <th>pH</th>\n",
       "      <th>pH</th>\n",
       "      <th>pD</th>\n",
       "      <th>pD</th>\n",
       "      <th>pD</th>\n",
       "      <th>pA</th>\n",
       "      <th>pA</th>\n",
       "      <th>pA</th>\n",
       "      <th>overround</th>\n",
       "      <th>overround</th>\n",
       "      <th>overround</th>\n",
       "    </tr>\n",
       "  </thead>\n",
       "  <tbody>\n",
       "    <tr>\n",
       "      <th>count</th>\n",
       "      <td>502.000000</td>\n",
       "      <td>502.000000</td>\n",
       "      <td>502.000000</td>\n",
       "      <td>502.000000</td>\n",
       "      <td>502.000000</td>\n",
       "      <td>502.000000</td>\n",
       "      <td>502.000000</td>\n",
       "      <td>502.000000</td>\n",
       "      <td>502.000000</td>\n",
       "      <td>502.000000</td>\n",
       "      <td>502.000000</td>\n",
       "      <td>502.000000</td>\n",
       "    </tr>\n",
       "    <tr>\n",
       "      <th>mean</th>\n",
       "      <td>0.426147</td>\n",
       "      <td>0.426147</td>\n",
       "      <td>0.426147</td>\n",
       "      <td>0.264855</td>\n",
       "      <td>0.264855</td>\n",
       "      <td>0.264855</td>\n",
       "      <td>0.308998</td>\n",
       "      <td>0.308998</td>\n",
       "      <td>0.308998</td>\n",
       "      <td>1.056343</td>\n",
       "      <td>1.056343</td>\n",
       "      <td>1.056343</td>\n",
       "    </tr>\n",
       "    <tr>\n",
       "      <th>std</th>\n",
       "      <td>0.119040</td>\n",
       "      <td>0.119040</td>\n",
       "      <td>0.119040</td>\n",
       "      <td>0.028426</td>\n",
       "      <td>0.028426</td>\n",
       "      <td>0.028426</td>\n",
       "      <td>0.106091</td>\n",
       "      <td>0.106091</td>\n",
       "      <td>0.106091</td>\n",
       "      <td>0.011203</td>\n",
       "      <td>0.011203</td>\n",
       "      <td>0.011203</td>\n",
       "    </tr>\n",
       "    <tr>\n",
       "      <th>min</th>\n",
       "      <td>0.106714</td>\n",
       "      <td>0.106714</td>\n",
       "      <td>0.106714</td>\n",
       "      <td>0.112997</td>\n",
       "      <td>0.112997</td>\n",
       "      <td>0.112997</td>\n",
       "      <td>0.051634</td>\n",
       "      <td>0.051634</td>\n",
       "      <td>0.051634</td>\n",
       "      <td>1.030306</td>\n",
       "      <td>1.030306</td>\n",
       "      <td>1.030306</td>\n",
       "    </tr>\n",
       "    <tr>\n",
       "      <th>25%</th>\n",
       "      <td>0.343275</td>\n",
       "      <td>0.343275</td>\n",
       "      <td>0.343275</td>\n",
       "      <td>0.252170</td>\n",
       "      <td>0.252170</td>\n",
       "      <td>0.252170</td>\n",
       "      <td>0.230078</td>\n",
       "      <td>0.230078</td>\n",
       "      <td>0.230078</td>\n",
       "      <td>1.050118</td>\n",
       "      <td>1.050118</td>\n",
       "      <td>1.050118</td>\n",
       "    </tr>\n",
       "    <tr>\n",
       "      <th>50%</th>\n",
       "      <td>0.422913</td>\n",
       "      <td>0.422913</td>\n",
       "      <td>0.422913</td>\n",
       "      <td>0.268475</td>\n",
       "      <td>0.268475</td>\n",
       "      <td>0.268475</td>\n",
       "      <td>0.299100</td>\n",
       "      <td>0.299100</td>\n",
       "      <td>0.299100</td>\n",
       "      <td>1.057332</td>\n",
       "      <td>1.057332</td>\n",
       "      <td>1.057332</td>\n",
       "    </tr>\n",
       "    <tr>\n",
       "      <th>75%</th>\n",
       "      <td>0.506870</td>\n",
       "      <td>0.506870</td>\n",
       "      <td>0.506870</td>\n",
       "      <td>0.284711</td>\n",
       "      <td>0.284711</td>\n",
       "      <td>0.284711</td>\n",
       "      <td>0.373589</td>\n",
       "      <td>0.373589</td>\n",
       "      <td>0.373589</td>\n",
       "      <td>1.065604</td>\n",
       "      <td>1.065604</td>\n",
       "      <td>1.065604</td>\n",
       "    </tr>\n",
       "    <tr>\n",
       "      <th>max</th>\n",
       "      <td>0.835369</td>\n",
       "      <td>0.835369</td>\n",
       "      <td>0.835369</td>\n",
       "      <td>0.323077</td>\n",
       "      <td>0.323077</td>\n",
       "      <td>0.323077</td>\n",
       "      <td>0.716737</td>\n",
       "      <td>0.716737</td>\n",
       "      <td>0.716737</td>\n",
       "      <td>1.078860</td>\n",
       "      <td>1.078860</td>\n",
       "      <td>1.078860</td>\n",
       "    </tr>\n",
       "  </tbody>\n",
       "</table>\n",
       "</div>"
      ],
      "text/plain": [
       "               pH          pH          pH          pD          pD          pD  \\\n",
       "count  502.000000  502.000000  502.000000  502.000000  502.000000  502.000000   \n",
       "mean     0.426147    0.426147    0.426147    0.264855    0.264855    0.264855   \n",
       "std      0.119040    0.119040    0.119040    0.028426    0.028426    0.028426   \n",
       "min      0.106714    0.106714    0.106714    0.112997    0.112997    0.112997   \n",
       "25%      0.343275    0.343275    0.343275    0.252170    0.252170    0.252170   \n",
       "50%      0.422913    0.422913    0.422913    0.268475    0.268475    0.268475   \n",
       "75%      0.506870    0.506870    0.506870    0.284711    0.284711    0.284711   \n",
       "max      0.835369    0.835369    0.835369    0.323077    0.323077    0.323077   \n",
       "\n",
       "               pA          pA          pA   overround   overround   overround  \n",
       "count  502.000000  502.000000  502.000000  502.000000  502.000000  502.000000  \n",
       "mean     0.308998    0.308998    0.308998    1.056343    1.056343    1.056343  \n",
       "std      0.106091    0.106091    0.106091    0.011203    0.011203    0.011203  \n",
       "min      0.051634    0.051634    0.051634    1.030306    1.030306    1.030306  \n",
       "25%      0.230078    0.230078    0.230078    1.050118    1.050118    1.050118  \n",
       "50%      0.299100    0.299100    0.299100    1.057332    1.057332    1.057332  \n",
       "75%      0.373589    0.373589    0.373589    1.065604    1.065604    1.065604  \n",
       "max      0.716737    0.716737    0.716737    1.078860    1.078860    1.078860  "
      ]
     },
     "execution_count": 29,
     "metadata": {},
     "output_type": "execute_result"
    }
   ],
   "source": [
    "def implied_probs(row):\n",
    "    H, D, A = np.nan, np.nan, np.nan\n",
    "    if \"PSH\" in row and \"PSD\" in row and \"PSA\" in row:\n",
    "        H, D, A = row[\"PSH\"], row[\"PSD\"], row[\"PSA\"]\n",
    "    if np.isnan(H) or np.isnan(D) or np.isnan(A):\n",
    "        H, D, A = row.get(\"B365H\", np.nan), row.get(\"B365D\", np.nan), row.get(\"B365A\", np.nan)\n",
    "    if any(np.isnan([H,D,A])):\n",
    "        return pd.Series({\"pH\":np.nan,\"pD\":np.nan,\"pA\":np.nan,\"overround\":np.nan})\n",
    "    inv = 1/H + 1/D + 1/A\n",
    "    return pd.Series({\"pH\":(1/H)/inv, \"pD\":(1/D)/inv, \"pA\":(1/A)/inv, \"overround\":inv})\n",
    "\n",
    "probs = df.apply(implied_probs, axis=1)\n",
    "df = pd.concat([df, probs], axis=1)\n",
    "\n",
    "df[[\"pH\",\"pD\",\"pA\",\"overround\"]].describe()\n"
   ]
  },
  {
   "cell_type": "markdown",
   "id": "8332e7fc-6cc0-4435-b069-7d0d46621720",
   "metadata": {},
   "source": [
    "### Shots Missingness"
   ]
  },
  {
   "cell_type": "code",
   "execution_count": 30,
   "id": "e27eebfb-88cf-4f18-a593-2818c04d6f96",
   "metadata": {},
   "outputs": [
    {
     "data": {
      "image/png": "[encoded data removed]",
      "text/plain": [
       "<Figure size 720x480 with 1 Axes>"
      ]
     },
     "metadata": {},
     "output_type": "display_data"
    }
   ],
   "source": [
    "shot_cols = [c for c in [\"HS\",\"HST\",\"AS\",\"AST\"] if c in df.columns]\n",
    "\n",
    "if shot_cols:\n",
    "    fig, ax = plt.subplots(figsize=(6,4))\n",
    "    sns.heatmap(df[shot_cols].isna(), cbar=False, ax=ax)\n",
    "    ax.set_title(\"Shots missingness\")\n",
    "    fig.tight_layout()\n",
    "    fig.savefig(OUTDIR / \"shots_missingness.png\")\n",
    "    df[shot_cols].describe()\n",
    "else:\n",
    "    print(\"No shot stats in this dataset.\")\n"
   ]
  },
  {
   "cell_type": "markdown",
   "id": "3563d258-cdb0-47f1-a77e-9e5813d9b7c1",
   "metadata": {},
   "source": [
    "### Teams & Divisions"
   ]
  },
  {
   "cell_type": "code",
   "execution_count": 31,
   "id": "f6a8cdcf-48bf-45e3-872c-c5fd6200b0cc",
   "metadata": {},
   "outputs": [
    {
     "name": "stdout",
     "output_type": "stream",
     "text": [
      "Unique teams: 116\n",
      "No 'Div' column present; skipping division counts.\n"
     ]
    }
   ],
   "source": [
    "n_teams = pd.unique(pd.concat([df[\"HomeTeam\"], df[\"AwayTeam\"]])).shape[0]\n",
    "print(\"Unique teams:\", n_teams)\n",
    "if \"Div\" in df.columns:\n",
    "    display(df[\"Div\"].value_counts())\n",
    "else:\n",
    "    print(\"No 'Div' column present; skipping division counts.\")\n"
   ]
  },
  {
   "cell_type": "markdown",
   "id": "9b125cbb-ba61-4f0b-8a9f-408c0c6fa007",
   "metadata": {},
   "source": [
    "### Time-Aware Split Preview"
   ]
  },
  {
   "cell_type": "code",
   "execution_count": 32,
   "id": "992e99a7-435a-402c-b0c6-b808d9de74af",
   "metadata": {},
   "outputs": [
    {
     "name": "stdout",
     "output_type": "stream",
     "text": [
      "Seasons: [2026]\n",
      "Not enough seasons; will fallback to date-based split.\n"
     ]
    }
   ],
   "source": [
    "seasons_sorted = sorted(df[\"season\"].unique())\n",
    "print(\"Seasons:\", seasons_sorted)\n",
    "\n",
    "if len(seasons_sorted) >= 3:\n",
    "    print(\"Train: <\", seasons_sorted[-2])\n",
    "    print(\"Val:   =\", seasons_sorted[-2])\n",
    "    print(\"Test:  =\", seasons_sorted[-1])\n",
    "else:\n",
    "    print(\"Not enough seasons; will fallback to date-based split.\")\n"
   ]
  },
  {
   "cell_type": "markdown",
   "id": "bdd96418-a537-40bb-b07a-ae9e9b4f6a2a",
   "metadata": {},
   "source": [
    "### Save Compact Summary"
   ]
  },
  {
   "cell_type": "code",
   "execution_count": 33,
   "id": "e1a3dd93-4cea-4fd6-9ad4-8d45389c47ed",
   "metadata": {},
   "outputs": [
    {
     "data": {
      "text/html": [
       "<div>\n",
       "<style scoped>\n",
       "    .dataframe tbody tr th:only-of-type {\n",
       "        vertical-align: middle;\n",
       "    }\n",
       "\n",
       "    .dataframe tbody tr th {\n",
       "        vertical-align: top;\n",
       "    }\n",
       "\n",
       "    .dataframe thead th {\n",
       "        text-align: right;\n",
       "    }\n",
       "</style>\n",
       "<table border=\"1\" class=\"dataframe\">\n",
       "  <thead>\n",
       "    <tr style=\"text-align: right;\">\n",
       "      <th></th>\n",
       "      <th>n_rows</th>\n",
       "      <th>n_seasons</th>\n",
       "      <th>n_divisions</th>\n",
       "      <th>unique_teams</th>\n",
       "      <th>home_pct</th>\n",
       "      <th>draw_pct</th>\n",
       "      <th>away_pct</th>\n",
       "      <th>rows_with_odds</th>\n",
       "    </tr>\n",
       "  </thead>\n",
       "  <tbody>\n",
       "    <tr>\n",
       "      <th>0</th>\n",
       "      <td>514</td>\n",
       "      <td>1</td>\n",
       "      <td>0</td>\n",
       "      <td>116</td>\n",
       "      <td>0.441634</td>\n",
       "      <td>0.241245</td>\n",
       "      <td>0.317121</td>\n",
       "      <td>502</td>\n",
       "    </tr>\n",
       "  </tbody>\n",
       "</table>\n",
       "</div>"
      ],
      "text/plain": [
       "   n_rows  n_seasons  n_divisions  unique_teams  home_pct  draw_pct  away_pct  \\\n",
       "0     514          1            0           116  0.441634  0.241245  0.317121   \n",
       "\n",
       "   rows_with_odds  \n",
       "0             502  "
      ]
     },
     "execution_count": 33,
     "metadata": {},
     "output_type": "execute_result"
    }
   ],
   "source": [
    "n_divs = int(df[\"Div\"].nunique()) if \"Div\" in df.columns else 0\n",
    "\n",
    "report = {\n",
    "    \"n_rows\": [len(df)],\n",
    "    \"n_seasons\": [df[\"season\"].nunique()],\n",
    "    \"n_divisions\": [n_divs],\n",
    "    \"unique_teams\": [n_teams],\n",
    "    \"home_pct\": [float((df[\"FTR\"] == \"H\").mean())],\n",
    "    \"draw_pct\": [float((df[\"FTR\"] == \"D\").mean())],\n",
    "    \"away_pct\": [float((df[\"FTR\"] == \"A\").mean())],\n",
    "    \"rows_with_odds\": [int(df[[\"pH\", \"pD\", \"pA\"]].notna().all(axis=1).sum())]\n",
    "}\n",
    "\n",
    "eda_df = pd.DataFrame(report)\n",
    "eda_df.to_csv(OUTDIR / \"eda_summary.csv\", index=False)\n",
    "eda_df\n"
   ]
  },
  {
   "cell_type": "markdown",
   "id": "332bee45-d3de-4b04-847b-83b19d11130b",
   "metadata": {},
   "source": [
    "## EDA Summary\n",
    "\n",
    "- **Labels:** Home wins dominate, draws are rare → Macro-F1 as primary metric.  \n",
    "- **Temporal coverage:** Multiple seasons available → use season-based time split (train older, val penultimate, test latest).  \n",
    "- **Odds:** Implied probabilities computed from available odds; older seasons have gaps.  \n",
    "- **Shots:** Missing in older data → not reliable features.  \n",
    "- **Integrity:** Minimal duplicates, stable team/division IDs.  \n",
    "- **Leakage rule:** Only pre-match signals (odds, form, rest); no post-match stats.\n"
   ]
  }
 ],
 "metadata": {
  "kernelspec": {
   "display_name": "Python 3 (ipykernel)",
   "language": "python",
   "name": "python3"
  },
  "language_info": {
   "codemirror_mode": {
    "name": "ipython",
    "version": 3
   },
   "file_extension": ".py",
   "mimetype": "text/x-python",
   "name": "python",
   "nbconvert_exporter": "python",
   "pygments_lexer": "ipython3",
   "version": "3.12.7"
  }
 },
 "nbformat": 4,
 "nbformat_minor": 5
}
